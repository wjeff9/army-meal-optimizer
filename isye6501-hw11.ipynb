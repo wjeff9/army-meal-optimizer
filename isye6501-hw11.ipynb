{
 "cells": [
  {
   "cell_type": "code",
   "execution_count": 8,
   "metadata": {},
   "outputs": [],
   "source": [
    "import pulp\n",
    "import pandas as pd\n",
    "\n",
    "# read data\n",
    "df = pd.read_excel('~/Documents/omsa/isye6501/hw/hw11/data 15.2/diet.xls')\n",
    "\n",
    "# split into 2 data frames \n",
    "# 1 for daily intake limits\n",
    "limit_df = df.iloc[-2:, 2:]\n",
    "# 1 for food nutrition, sort by food name\n",
    "food_df = df.iloc[:-3].sort_values(by='Foods')"
   ]
  },
  {
   "cell_type": "markdown",
   "metadata": {},
   "source": [
    "**Problem 1**"
   ]
  },
  {
   "cell_type": "code",
   "execution_count": 9,
   "metadata": {},
   "outputs": [
    {
     "name": "stdout",
     "output_type": "stream",
     "text": [
      "Celery, Raw: 52.64371 servings\n",
      "Frozen Broccoli: 0.25960653 servings\n",
      "Lettuce,Iceberg,Raw: 63.988506 servings\n",
      "Oranges: 2.2929389 servings\n",
      "Poached Eggs: 0.14184397 servings\n",
      "Popcorn,Air-Popped: 13.869322 servings\n"
     ]
    }
   ],
   "source": [
    "# problem 1\n",
    "prob = pulp.LpProblem('army_nut', pulp.LpMinimize)\n",
    "\n",
    "# variables\n",
    "amt_vars = pulp.LpVariable.dicts(name='food amt', indices=food_df['Foods'], lowBound=0)\n",
    "\n",
    "# objective function\n",
    "prob += pulp.lpSum([amt_vars[food] * food_df.loc[food_df['Foods'] == food, ]['Price/ Serving'].iloc[0] for food in food_df['Foods']]), 'total cost'\n",
    "\n",
    "# daily intake constraints\n",
    "for nut in limit_df.columns[1:]:\n",
    "    min_nut = limit_df[nut].iloc[0]\n",
    "    max_nut = limit_df[nut].iloc[1]\n",
    "\n",
    "    prob += pulp.lpSum([amt_vars[food] * food_df.loc[food_df['Foods'] == food, ][nut].iloc[0] for food in food_df['Foods']]) >= min_nut, f'min_{nut}'\n",
    "    prob += pulp.lpSum([amt_vars[food] * food_df.loc[food_df['Foods'] == food, ][nut].iloc[0] for food in food_df['Foods']]) <= max_nut, f'max_{nut}'\n",
    "\n",
    "# solve w/o printing output\n",
    "prob.solve(pulp.PULP_CBC_CMD(msg=False))\n",
    "\n",
    "# print non-zero results\n",
    "for food in amt_vars:\n",
    "    if amt_vars[food].varValue > 0:\n",
    "        print(f'{food}: {amt_vars[food].varValue} servings')"
   ]
  },
  {
   "cell_type": "markdown",
   "metadata": {},
   "source": [
    "Here, you can see that my results match the optimal solution stated in the homework description.\n",
    "\n",
    "**Problem 2**"
   ]
  },
  {
   "cell_type": "code",
   "execution_count": null,
   "metadata": {},
   "outputs": [
    {
     "name": "stdout",
     "output_type": "stream",
     "text": [
      "Bologna,Turkey: 0.1 servings\n",
      "Celery, Raw: 51.078545 servings\n",
      "Frozen Broccoli: 0.22989332 servings\n",
      "Kielbasa,Prk: 0.1 servings\n",
      "Lettuce,Iceberg,Raw: 67.676471 servings\n",
      "Oranges: 2.3738879 servings\n",
      "Poached Eggs: 0.12033097 servings\n",
      "Popcorn,Air-Popped: 13.867193 servings\n"
     ]
    }
   ],
   "source": [
    "# problem 2\n",
    "prob2 = pulp.LpProblem('army_nut', pulp.LpMinimize)\n",
    "\n",
    "# variables\n",
    "amt_vars = pulp.LpVariable.dicts(name='food amt', indices=food_df['Foods'], lowBound=0)\n",
    "selected_vars = pulp.LpVariable.dicts(name='selected', indices=food_df['Foods'], cat='Binary')\n",
    "\n",
    "# objective function\n",
    "prob2 += pulp.lpSum([amt_vars[food] * food_df.loc[food_df['Foods'] == food, ]['Price/ Serving'].iloc[0] for food in food_df['Foods']]), 'total cost'\n",
    "\n",
    "# daily intake constraints\n",
    "for nut in limit_df.columns[1:]:\n",
    "    min_nut = limit_df[nut].iloc[0]\n",
    "    max_nut = limit_df[nut].iloc[1]\n",
    "\n",
    "    prob2 += pulp.lpSum([amt_vars[food] * food_df.loc[food_df['Foods'] == food, ][nut].iloc[0] for food in food_df['Foods']]) >= min_nut, f'min_{nut}'\n",
    "    prob2 += pulp.lpSum([amt_vars[food] * food_df.loc[food_df['Foods'] == food, ][nut].iloc[0] for food in food_df['Foods']]) <= max_nut, f'max_{nut}'\n",
    "\n",
    "# constraint a: min 0.1 servings\n",
    "for food in food_df['Foods']:\n",
    "    prob2 += amt_vars[food] >= 0.1 * selected_vars[food]\n",
    "    prob2 += amt_vars[food] <= 1000 * selected_vars[food] # linking constraint to ensure that 'selected' is 1 when 'food amt' > 0\n",
    "\n",
    "# constraint b: cannot select both celery and broccoli\n",
    "prob2 += selected_vars['Celery, Raw'] + selected_vars['Frozen Broccoli'] <= 1\n",
    "\n",
    "# constraint c: at least 3 different types of protein excluding tacos (ambiguous), tofu, and soups\n",
    "# protein types for constraint c\n",
    "meat_types = ['Frankfurter, Beef', 'Ham,Sliced,Extralean', 'Kielbasa,Prk', 'Pork', 'Hamburger W/Toppings', 'Hotdog, Plain']\n",
    "poultry_types = ['Roasted Chicken', 'Bologna,Turkey']\n",
    "fish_types = ['Sardines in Oil', 'White Tuna in Water']\n",
    "egg_types = ['Poached Eggs', 'Scrambled Eggs']\n",
    "\n",
    "# vars for constraint c\n",
    "meat_selected = pulp.LpVariable('meat_selected', cat='Binary')\n",
    "poultry_selected = pulp.LpVariable('poultry_selected', cat='Binary')\n",
    "fish_selected = pulp.LpVariable('fish_selected', cat='Binary')\n",
    "egg_selected = pulp.LpVariable('egg_selected', cat='Binary')\n",
    "\n",
    "# linking constraints for constraint c\n",
    "prob2 += meat_selected <= pulp.lpSum([selected_vars[food] for food in meat_types if food in selected_vars])\n",
    "prob2 += poultry_selected <= pulp.lpSum([selected_vars[food] for food in poultry_types if food in selected_vars])\n",
    "prob2 += fish_selected <= pulp.lpSum([selected_vars[food] for food in fish_types if food in selected_vars])\n",
    "prob2 += egg_selected <= pulp.lpSum([selected_vars[food] for food in egg_types if food in selected_vars])\n",
    "\n",
    "# constraint c\n",
    "prob2 += meat_selected + poultry_selected + fish_selected + egg_selected >= 3\n",
    "\n",
    "# solve w/o printing output\n",
    "prob2.solve(pulp.PULP_CBC_CMD(msg=False))\n",
    "\n",
    "# print non-zero results\n",
    "for food in amt_vars:\n",
    "    if amt_vars[food].varValue > 0:\n",
    "        print(f'{food}: {amt_vars[food].varValue} servings')"
   ]
  },
  {
   "cell_type": "markdown",
   "metadata": {},
   "source": [
    "I interpreted constraint C as requiring at least 1 protein from at least 3 of the 4 stated protein types (meat, poultry, fish, eggs), since the goal is to include a variety of protein sources in the diet. Here, I have 1 poultry (turkey bologna), 1 meat (pork kielbasa), and poached eggs. Since there is at least 0.1 servings of each item and the diet does not include broccoli, constraints A and B are also met."
   ]
  }
 ],
 "metadata": {
  "kernelspec": {
   "display_name": "Python 3 (ipykernel)",
   "language": "python",
   "name": "python3"
  },
  "language_info": {
   "codemirror_mode": {
    "name": "ipython",
    "version": 3
   },
   "file_extension": ".py",
   "mimetype": "text/x-python",
   "name": "python",
   "nbconvert_exporter": "python",
   "pygments_lexer": "ipython3",
   "version": "3.13.2"
  }
 },
 "nbformat": 4,
 "nbformat_minor": 4
}
